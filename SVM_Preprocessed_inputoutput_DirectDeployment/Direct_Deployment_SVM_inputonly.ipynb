{
 "cells": [
  {
   "cell_type": "code",
   "execution_count": 1,
   "id": "270768f6-497e-418e-afbb-737ecc217ef6",
   "metadata": {},
   "outputs": [],
   "source": [
    "import pickle\n"
   ]
  },
  {
   "cell_type": "code",
   "execution_count": 2,
   "id": "12101491-689f-45d7-a908-86e36e5158f1",
   "metadata": {},
   "outputs": [],
   "source": [
    "scx=pickle.load(open(\"scx.pkl\",'rb'))\n",
    "scy=pickle.load(open(\"scy.pkl\",'rb'))"
   ]
  },
  {
   "cell_type": "code",
   "execution_count": 3,
   "id": "089265ae-944e-4969-8bb4-bf8f381c3b4a",
   "metadata": {},
   "outputs": [
    {
     "name": "stderr",
     "output_type": "stream",
     "text": [
      "C:\\Users\\nandh\\anaconda3\\Lib\\site-packages\\sklearn\\base.py:493: UserWarning: X does not have valid feature names, but StandardScaler was fitted with feature names\n",
      "  warnings.warn(\n"
     ]
    },
    {
     "data": {
      "text/plain": [
       "array([[-1.46169465,  1.32337859, -0.89833872,  1.02378711, -0.50466988]])"
      ]
     },
     "execution_count": 3,
     "metadata": {},
     "output_type": "execute_result"
    }
   ],
   "source": [
    "loaded_model=pickle.load(open(\"SVM_Preprocessed_input_directDeployment.sav\",'rb'))\n",
    "pre_input=scx.transform([[19,39,0,1,0]])\n",
    "pre_input"
   ]
  },
  {
   "cell_type": "code",
   "execution_count": 4,
   "id": "0bdbd4fe-c18e-48c2-bfbc-628b12d1dc90",
   "metadata": {},
   "outputs": [
    {
     "data": {
      "text/plain": [
       "array([-0.90825243])"
      ]
     },
     "execution_count": 4,
     "metadata": {},
     "output_type": "execute_result"
    }
   ],
   "source": [
    "result=loaded_model.predict(pre_input)\n",
    "result"
   ]
  },
  {
   "cell_type": "code",
   "execution_count": 6,
   "id": "a2026b28-fa62-4458-9d87-c547723f5400",
   "metadata": {},
   "outputs": [
    {
     "data": {
      "text/plain": [
       "array([[2448.54293515]])"
      ]
     },
     "execution_count": 6,
     "metadata": {},
     "output_type": "execute_result"
    }
   ],
   "source": [
    "pre_output=scy.inverse_transform([result])\n",
    "pre_output"
   ]
  }
 ],
 "metadata": {
  "kernelspec": {
   "display_name": "Python 3 (ipykernel)",
   "language": "python",
   "name": "python3"
  },
  "language_info": {
   "codemirror_mode": {
    "name": "ipython",
    "version": 3
   },
   "file_extension": ".py",
   "mimetype": "text/x-python",
   "name": "python",
   "nbconvert_exporter": "python",
   "pygments_lexer": "ipython3",
   "version": "3.12.4"
  }
 },
 "nbformat": 4,
 "nbformat_minor": 5
}
